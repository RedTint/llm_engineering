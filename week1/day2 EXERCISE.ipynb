{
 "cells": [
  {
   "cell_type": "markdown",
   "id": "d15d8294-3328-4e07-ad16-8a03e9bbfdb9",
   "metadata": {},
   "source": [
    "# Welcome to your first assignment!\n",
    "\n",
    "Instructions are below. Please give this a try, and look in the solutions folder if you get stuck (or feel free to ask me!)"
   ]
  },
  {
   "cell_type": "markdown",
   "id": "ada885d9-4d42-4d9b-97f0-74fbbbfe93a9",
   "metadata": {},
   "source": [
    "<table style=\"margin: 0; text-align: left;\">\n",
    "    <tr>\n",
    "        <td style=\"width: 150px; height: 150px; vertical-align: middle;\">\n",
    "            <img src=\"../resources.jpg\" width=\"150\" height=\"150\" style=\"display: block;\" />\n",
    "        </td>\n",
    "        <td>\n",
    "            <h2 style=\"color:#f71;\">Just before we get to the assignment --</h2>\n",
    "            <span style=\"color:#f71;\">I thought I'd take a second to point you at this page of useful resources for the course. This includes links to all the slides.<br/>\n",
    "            <a href=\"https://edwarddonner.com/2024/11/13/llm-engineering-resources/\">https://edwarddonner.com/2024/11/13/llm-engineering-resources/</a><br/>\n",
    "            Please keep this bookmarked, and I'll continue to add more useful links there over time.\n",
    "            </span>\n",
    "        </td>\n",
    "    </tr>\n",
    "</table>"
   ]
  },
  {
   "cell_type": "markdown",
   "id": "6e9fa1fc-eac5-4d1d-9be4-541b3f2b3458",
   "metadata": {},
   "source": [
    "# HOMEWORK EXERCISE ASSIGNMENT\n",
    "\n",
    "Upgrade the day 1 project to summarize a webpage to use an Open Source model running locally via Ollama rather than OpenAI\n",
    "\n",
    "You'll be able to use this technique for all subsequent projects if you'd prefer not to use paid APIs.\n",
    "\n",
    "**Benefits:**\n",
    "1. No API charges - open-source\n",
    "2. Data doesn't leave your box\n",
    "\n",
    "**Disadvantages:**\n",
    "1. Significantly less power than Frontier Model\n",
    "\n",
    "## Recap on installation of Ollama\n",
    "\n",
    "Simply visit [ollama.com](https://ollama.com) and install!\n",
    "\n",
    "Once complete, the ollama server should already be running locally.  \n",
    "If you visit:  \n",
    "[http://localhost:11434/](http://localhost:11434/)\n",
    "\n",
    "You should see the message `Ollama is running`.  \n",
    "\n",
    "If not, bring up a new Terminal (Mac) or Powershell (Windows) and enter `ollama serve`  \n",
    "And in another Terminal (Mac) or Powershell (Windows), enter `ollama pull llama3.2`  \n",
    "Then try [http://localhost:11434/](http://localhost:11434/) again.\n",
    "\n",
    "If Ollama is slow on your machine, try using `llama3.2:1b` as an alternative. Run `ollama pull llama3.2:1b` from a Terminal or Powershell, and change the code below from `MODEL = \"llama3.2\"` to `MODEL = \"llama3.2:1b\"`"
   ]
  },
  {
   "cell_type": "code",
   "execution_count": 1,
   "id": "4e2a9393-7767-488e-a8bf-27c12dca35bd",
   "metadata": {},
   "outputs": [],
   "source": [
    "# imports\n",
    "\n",
    "import requests\n",
    "from bs4 import BeautifulSoup\n",
    "from IPython.display import Markdown, display"
   ]
  },
  {
   "cell_type": "code",
   "execution_count": 2,
   "id": "29ddd15d-a3c5-4f4e-a678-873f56162724",
   "metadata": {},
   "outputs": [],
   "source": [
    "# Constants\n",
    "\n",
    "OLLAMA_API = \"http://localhost:11434/api/chat\"\n",
    "HEADERS = {\"Content-Type\": \"application/json\"}\n",
    "MODEL = \"llama3.2\""
   ]
  },
  {
   "cell_type": "code",
   "execution_count": 3,
   "id": "dac0a679-599c-441f-9bf2-ddc73d35b940",
   "metadata": {},
   "outputs": [],
   "source": [
    "# Create a messages list using the same format that we used for OpenAI\n",
    "\n",
    "messages = [\n",
    "    {\"role\": \"user\", \"content\": \"Describe some of the business applications of Generative AI\"}\n",
    "]"
   ]
  },
  {
   "cell_type": "code",
   "execution_count": 4,
   "id": "7bb9c624-14f0-4945-a719-8ddb64f66f47",
   "metadata": {},
   "outputs": [],
   "source": [
    "payload = {\n",
    "        \"model\": MODEL,\n",
    "        \"messages\": messages,\n",
    "        \"stream\": False\n",
    "    }"
   ]
  },
  {
   "cell_type": "code",
   "execution_count": 5,
   "id": "479ff514-e8bd-4985-a572-2ea28bb4fa40",
   "metadata": {},
   "outputs": [
    {
     "name": "stdout",
     "output_type": "stream",
     "text": [
      "\u001b[?25lpulling manifest ⠋ \u001b[?25h\u001b[?25l\u001b[2K\u001b[1Gpulling manifest ⠙ \u001b[?25h\u001b[?25l\u001b[2K\u001b[1Gpulling manifest ⠹ \u001b[?25h\u001b[?25l\u001b[2K\u001b[1Gpulling manifest ⠸ \u001b[?25h\u001b[?25l\u001b[2K\u001b[1Gpulling manifest ⠼ \u001b[?25h\u001b[?25l\u001b[2K\u001b[1Gpulling manifest ⠴ \u001b[?25h\u001b[?25l\u001b[2K\u001b[1Gpulling manifest ⠦ \u001b[?25h\u001b[?25l\u001b[2K\u001b[1Gpulling manifest ⠧ \u001b[?25h\u001b[?25l\u001b[2K\u001b[1Gpulling manifest ⠇ \u001b[?25h\u001b[?25l\u001b[2K\u001b[1Gpulling manifest ⠏ \u001b[?25h\u001b[?25l\u001b[2K\u001b[1Gpulling manifest ⠋ \u001b[?25h\u001b[?25l\u001b[2K\u001b[1Gpulling manifest ⠙ \u001b[?25h\u001b[?25l\u001b[2K\u001b[1Gpulling manifest ⠹ \u001b[?25h\u001b[?25l\u001b[2K\u001b[1Gpulling manifest \n",
      "pulling dde5aa3fc5ff... 100% ▕████████████████▏ 2.0 GB                         \n",
      "pulling 966de95ca8a6... 100% ▕████████████████▏ 1.4 KB                         \n",
      "pulling fcc5a6bec9da... 100% ▕████████████████▏ 7.7 KB                         \n",
      "pulling a70ff7e570d9... 100% ▕████████████████▏ 6.0 KB                         \n",
      "pulling 56bb8bd477a5... 100% ▕████████████████▏   96 B                         \n",
      "pulling 34bb5ab01051... 100% ▕████████████████▏  561 B                         \n",
      "verifying sha256 digest \n",
      "writing manifest \n",
      "success \u001b[?25h\n"
     ]
    }
   ],
   "source": [
    "# Let's just make sure the model is loaded\n",
    "\n",
    "!ollama pull llama3.2"
   ]
  },
  {
   "cell_type": "code",
   "execution_count": 5,
   "id": "42b9f644-522d-4e05-a691-56e7658c0ea9",
   "metadata": {},
   "outputs": [
    {
     "name": "stdout",
     "output_type": "stream",
     "text": [
      "Generative AI has numerous business applications across various industries. Here are some examples:\n",
      "\n",
      "1. **Content Generation**: Generative AI can create high-quality, unique content such as articles, social media posts, product descriptions, and more. This can help businesses save time and money on content creation.\n",
      "2. **Product Design**: Generative AI can be used to design new products, such as fashion items, electronics, or furniture. It can also help optimize existing product designs.\n",
      "3. **Image and Video Generation**: Generative AI can create realistic images and videos for various applications, including advertising, entertainment, and education.\n",
      "4. **Chatbots and Virtual Assistants**: Generative AI can power conversational interfaces, enabling businesses to build more sophisticated chatbots and virtual assistants that can engage with customers in a more human-like way.\n",
      "5. **Predictive Maintenance**: Generative AI can analyze sensor data from machines and predict when maintenance is required, reducing downtime and increasing overall efficiency.\n",
      "6. **Personalized Recommendations**: Generative AI can create personalized product recommendations for customers based on their browsing history, purchase behavior, and other factors.\n",
      "7. **Automated Writing Assistance**: Generative AI can assist writers with tasks such as suggesting alternative phrases, completing sentences, and even generating entire articles.\n",
      "8. **Data Analysis and Visualization**: Generative AI can help analyze large datasets, identify patterns, and visualize complex information in a more engaging and interactive way.\n",
      "9. **Marketing Campaigns**: Generative AI can create targeted marketing campaigns by analyzing customer data, predicting behavior, and suggesting personalized messaging.\n",
      "10. **Customer Service**: Generative AI can be used to power automated customer service systems that can respond to common queries, reducing the workload for human customer support agents.\n",
      "\n",
      "Some specific industries where Generative AI is being applied include:\n",
      "\n",
      "1. **E-commerce**: Using Generative AI to create product images, generate product descriptions, and personalize recommendations.\n",
      "2. **Finance**: Using Generative AI to analyze financial data, predict market trends, and create personalized investment portfolios.\n",
      "3. **Healthcare**: Using Generative AI to analyze medical images, diagnose diseases, and develop personalized treatment plans.\n",
      "4. **Education**: Using Generative AI to create personalized learning materials, automate grading, and provide real-time feedback.\n",
      "\n",
      "These are just a few examples of the many business applications of Generative AI. As the technology continues to evolve, we can expect to see even more innovative use cases across various industries.\n"
     ]
    }
   ],
   "source": [
    "# If this doesn't work for any reason, try the 2 versions in the following cells\n",
    "# And double check the instructions in the 'Recap on installation of Ollama' at the top of this lab\n",
    "# And if none of that works - contact me!\n",
    "\n",
    "response = requests.post(OLLAMA_API, json=payload, headers=HEADERS)\n",
    "print(response.json()['message']['content'])"
   ]
  },
  {
   "cell_type": "code",
   "execution_count": 7,
   "id": "218d3fb8-ef9b-43e2-bad5-7a8ee420b575",
   "metadata": {},
   "outputs": [
    {
     "data": {
      "text/markdown": [
       "Generative AI has numerous business applications across various industries. Here are some examples:\n",
       "\n",
       "1. **Content Generation**: Generative AI can create high-quality, unique content such as articles, social media posts, product descriptions, and more. This can help businesses save time and money on content creation.\n",
       "2. **Product Design**: Generative AI can be used to design new products, such as fashion items, electronics, or furniture. It can also help optimize existing product designs.\n",
       "3. **Image and Video Generation**: Generative AI can create realistic images and videos for various applications, including advertising, entertainment, and education.\n",
       "4. **Chatbots and Virtual Assistants**: Generative AI can power conversational interfaces, enabling businesses to build more sophisticated chatbots and virtual assistants that can engage with customers in a more human-like way.\n",
       "5. **Predictive Maintenance**: Generative AI can analyze sensor data from machines and predict when maintenance is required, reducing downtime and increasing overall efficiency.\n",
       "6. **Personalized Recommendations**: Generative AI can create personalized product recommendations for customers based on their browsing history, purchase behavior, and other factors.\n",
       "7. **Automated Writing Assistance**: Generative AI can assist writers with tasks such as suggesting alternative phrases, completing sentences, and even generating entire articles.\n",
       "8. **Data Analysis and Visualization**: Generative AI can help analyze large datasets, identify patterns, and visualize complex information in a more engaging and interactive way.\n",
       "9. **Marketing Campaigns**: Generative AI can create targeted marketing campaigns by analyzing customer data, predicting behavior, and suggesting personalized messaging.\n",
       "10. **Customer Service**: Generative AI can be used to power automated customer service systems that can respond to common queries, reducing the workload for human customer support agents.\n",
       "\n",
       "Some specific industries where Generative AI is being applied include:\n",
       "\n",
       "1. **E-commerce**: Using Generative AI to create product images, generate product descriptions, and personalize recommendations.\n",
       "2. **Finance**: Using Generative AI to analyze financial data, predict market trends, and create personalized investment portfolios.\n",
       "3. **Healthcare**: Using Generative AI to analyze medical images, diagnose diseases, and develop personalized treatment plans.\n",
       "4. **Education**: Using Generative AI to create personalized learning materials, automate grading, and provide real-time feedback.\n",
       "\n",
       "These are just a few examples of the many business applications of Generative AI. As the technology continues to evolve, we can expect to see even more innovative use cases across various industries."
      ],
      "text/plain": [
       "<IPython.core.display.Markdown object>"
      ]
     },
     "execution_count": 7,
     "metadata": {},
     "output_type": "execute_result"
    }
   ],
   "source": [
    "Markdown(response.json()['message']['content'])"
   ]
  },
  {
   "cell_type": "markdown",
   "id": "6a021f13-d6a1-4b96-8e18-4eae49d876fe",
   "metadata": {},
   "source": [
    "# Introducing the ollama package\n",
    "\n",
    "And now we'll do the same thing, but using the elegant ollama python package instead of a direct HTTP call.\n",
    "\n",
    "Under the hood, it's making the same call as above to the ollama server running at localhost:11434"
   ]
  },
  {
   "cell_type": "code",
   "execution_count": 8,
   "id": "7745b9c4-57dc-4867-9180-61fa5db55eb8",
   "metadata": {},
   "outputs": [
    {
     "data": {
      "text/markdown": [
       "Generative AI has numerous business applications across various industries, including:\n",
       "\n",
       "1. **Content Creation**: Generative AI can be used to generate high-quality content such as articles, social media posts, and product descriptions, saving time and resources for businesses.\n",
       "2. **Image and Video Generation**: Generative AI can create realistic images and videos, which can be used in advertising, marketing, and entertainment industries.\n",
       "3. **Product Design**: Generative AI can assist in designing new products, such as fashion items, furniture, and architecture, by generating 3D models and prototypes.\n",
       "4. **Customer Service Chatbots**: Generative AI-powered chatbots can provide personalized customer service, respond to common queries, and help businesses automate customer support.\n",
       "5. **Marketing and Advertising**: Generative AI can be used to generate targeted advertisements, personalize product recommendations, and analyze market trends.\n",
       "6. **Data Analysis and Visualization**: Generative AI can help analyze and visualize large datasets, identifying patterns and insights that may not be apparent through traditional methods.\n",
       "7. **Predictive Maintenance**: Generative AI can predict equipment failures, reducing downtime and increasing overall efficiency in industries such as manufacturing and energy.\n",
       "8. **Financial Modeling**: Generative AI can generate financial models, forecasts, and predictions, helping businesses make informed investment decisions.\n",
       "9. **Supply Chain Optimization**: Generative AI can analyze supply chain data to identify inefficiencies and optimize logistics, leading to cost savings and improved delivery times.\n",
       "10. **Cybersecurity**: Generative AI can help detect and respond to cyber threats by generating predictive models, identifying patterns, and providing real-time threat intelligence.\n",
       "\n",
       "Some specific examples of businesses using generative AI include:\n",
       "\n",
       "* **Lyft** uses generative AI to create personalized car recommendations for passengers.\n",
       "* **Nike** uses generative AI to design new sports equipment and apparel designs.\n",
       "* **DHL** uses generative AI to optimize its supply chain and predict package delivery times.\n",
       "* **Amazon** uses generative AI to personalize product recommendations and improve customer service.\n",
       "* **BMW** uses generative AI to create personalized car interiors and exterior designs.\n",
       "\n",
       "These are just a few examples of the many business applications of Generative AI. As the technology continues to evolve, we can expect to see even more innovative applications across various industries."
      ],
      "text/plain": [
       "<IPython.core.display.Markdown object>"
      ]
     },
     "execution_count": 8,
     "metadata": {},
     "output_type": "execute_result"
    }
   ],
   "source": [
    "import ollama\n",
    "\n",
    "response = ollama.chat(model=MODEL, messages=messages)\n",
    "Markdown(response['message']['content'])"
   ]
  },
  {
   "cell_type": "markdown",
   "id": "a4704e10-f5fb-4c15-a935-f046c06fb13d",
   "metadata": {},
   "source": [
    "## Alternative approach - using OpenAI python library to connect to Ollama"
   ]
  },
  {
   "cell_type": "code",
   "execution_count": 11,
   "id": "23057e00-b6fc-4678-93a9-6b31cb704bff",
   "metadata": {},
   "outputs": [
    {
     "name": "stdout",
     "output_type": "stream",
     "text": [
      "Generative AI (Artificial Intelligence) is being rapidly adopted across various industries, and its business applications are vast and diverse. Here are some examples:\n",
      "\n",
      "1. **Content Creation**: Generative AI can generate high-quality content such as:\n",
      " * Articles and blog posts\n",
      " * Social media posts\n",
      " * Product descriptions\n",
      " * Video scripts\n",
      " * Music tracks\n",
      " * Images and graphics\n",
      "2. **Marketing Automation**: Generative AI can help with lead generation, personalization, and lead nurturing by:\n",
      " * Creating compelling email templates\n",
      " * Generating dynamic ad copy\n",
      " * Personalizing customer communication\n",
      "3. **Customer Service**: Generative AI-powered chatbots can provide 24/7 customer support, helping customers with:\n",
      " * Routine queries\n",
      " * Basic troubleshooting\n",
      " * Answering frequently asked questions\n",
      "4. **Product Development**: Generative AI can aid in product design, development, and testing by:\n",
      " * Creating prototypes and mockups\n",
      " * Simulating complex scenarios\n",
      " * Optimizing designs for efficiency and cost-effectiveness\n",
      "5. **Data Analysis and Insights**: Generative AI can help analyze large datasets, identifying patterns and trends that might be difficult for humans to discover on their own.\n",
      "6. **Education and Training**: Generative AI can create custom learning experiences, including interactive simulations, virtual labs, and adaptive assessments.\n",
      "7. **Healthcare**: Generative AI can assist with:\n",
      " * Patient data analysis\n",
      " * Medical imaging analysis\n",
      " * Developing personalized treatment plans\n",
      "8. **Financial Services**: Generative AI can be used for:\n",
      " * Credit risk assessment\n",
      " * Portfolio optimization\n",
      " * Automatic compliance reporting\n"
     ]
    }
   ],
   "source": [
    "# There's actually an alternative approach that some people might prefer\n",
    "# You can use the OpenAI client python library to call Ollama:\n",
    "\n",
    "from openai import OpenAI\n",
    "ollama_via_openai = OpenAI(base_url='http://localhost:11434/v1', api_key='ollama')\n",
    "\n",
    "response = ollama_via_openai.chat.completions.create(\n",
    "    model=MODEL,\n",
    "    messages=messages\n",
    ")\n",
    "\n",
    "print(response.choices[0].message.content)"
   ]
  },
  {
   "cell_type": "markdown",
   "id": "1622d9bb-5c68-4d4e-9ca4-b492c751f898",
   "metadata": {},
   "source": [
    "# NOW the exercise for you\n",
    "\n",
    "Take the code from day1 and incorporate it here, to build a website summarizer that uses Llama 3.2 running locally instead of OpenAI; use either of the above approaches."
   ]
  },
  {
   "cell_type": "code",
   "execution_count": null,
   "id": "402d5686-4e76-4110-b65a-b3906c35c0a4",
   "metadata": {},
   "outputs": [],
   "source": []
  }
 ],
 "metadata": {
  "kernelspec": {
   "display_name": "Python 3 (ipykernel)",
   "language": "python",
   "name": "python3"
  },
  "language_info": {
   "codemirror_mode": {
    "name": "ipython",
    "version": 3
   },
   "file_extension": ".py",
   "mimetype": "text/x-python",
   "name": "python",
   "nbconvert_exporter": "python",
   "pygments_lexer": "ipython3",
   "version": "3.11.11"
  }
 },
 "nbformat": 4,
 "nbformat_minor": 5
}
